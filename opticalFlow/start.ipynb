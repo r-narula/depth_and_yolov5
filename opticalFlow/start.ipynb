{
 "cells": [
  {
   "cell_type": "code",
   "execution_count": 2,
   "metadata": {},
   "outputs": [
    {
     "name": "stderr",
     "output_type": "stream",
     "text": [
      "100%|██████████| 48/48 [00:00<00:00, 69.10it/s]\n",
      "OpenCV: FFMPEG: tag 0x58564944/'DIVX' is not supported with codec id 12 and format 'mp4 / MP4 (MPEG-4 Part 14)'\n",
      "OpenCV: FFMPEG: fallback to use tag 0x7634706d/'mp4v'\n"
     ]
    }
   ],
   "source": [
    "# Make a video from the Images in Kitti Dataset..\n",
    "import os\n",
    "import cv2\n",
    "import glob\n",
    "import natsort\n",
    "import numpy as np\n",
    "from tqdm import tqdm\n",
    "img_array = []\n",
    "# Change the Path \n",
    "ll = glob.glob(\"../testing2/*.png\")\n",
    "\n",
    "for filename in tqdm(natsort.natsorted(ll)):\n",
    "    img = cv2.imread(filename)\n",
    "    height, width, layers = img.shape\n",
    "    size = (width,height)\n",
    "    img_array.append(img)\n",
    "\n",
    "\n",
    "out = cv2.VideoWriter('../final_results/kitti_img2Video.mp4',cv2.VideoWriter_fourcc(*'DIVX'), 1, size)\n",
    " \n",
    "for i in range(len(img_array)):\n",
    "    out.write(img_array[i])\n",
    "out.release()"
   ]
  },
  {
   "cell_type": "code",
   "execution_count": 4,
   "metadata": {},
   "outputs": [
    {
     "name": "stderr",
     "output_type": "stream",
     "text": [
      "OpenCV: FFMPEG: tag 0x58564944/'DIVX' is not supported with codec id 12 and format 'mp4 / MP4 (MPEG-4 Part 14)'\n",
      "OpenCV: FFMPEG: fallback to use tag 0x7634706d/'mp4v'\n"
     ]
    }
   ],
   "source": [
    "\n",
    "\n",
    "# Parameters for Shi-Tomasi corner detection\n",
    "feature_params = dict(maxCorners = 300, qualityLevel = 0.2, minDistance = 2, blockSize = 7)\n",
    "# Parameters for Lucas-Kanade optical flow\n",
    "lk_params = dict(winSize = (15,15), maxLevel = 2, criteria = (cv2.TERM_CRITERIA_EPS | cv2.TERM_CRITERIA_COUNT, 10, 0.03))\n",
    "# The video feed is read in as a VideoCapture object\n",
    "cap = cv2.VideoCapture(\"../final_results/kitti_img2Video.mp4\")\n",
    "# Variable for color to draw optical flow track\n",
    "color = (0, 255, 0)\n",
    "# ret = a boolean return value from getting the frame, first_frame = the first frame in the entire video sequence\n",
    "ret, first_frame = cap.read()\n",
    "# Converts frame to grayscale because we only need the luminance channel for detecting edges - less computationally expensive\n",
    "prev_gray = cv2.cvtColor(first_frame, cv2.COLOR_BGR2GRAY)\n",
    "# Finds the strongest corners in the first frame by Shi-Tomasi method - we will track the optical flow for these corners\n",
    "# https://docs.opencv.org/3.0-beta/modules/imgproc/doc/feature_detection.html#goodfeaturestotrack\n",
    "prev = cv2.goodFeaturesToTrack(prev_gray, mask = None, **feature_params)\n",
    "# Creates an image filled with zero intensities with the same dimensions as the frame - for later drawing purposes\n",
    "mask = np.zeros_like(first_frame)\n",
    "\n",
    "\n",
    "out = cv2.VideoWriter('../final_results/sparseOpticalFlw_video.mp4',cv2.VideoWriter_fourcc(*'DIVX'), 1, (1241,376))\n",
    "\n",
    "while(cap.isOpened()):\n",
    "    try:\n",
    "    # ret = a boolean return value from getting the frame, frame = the current frame being projected in the video\n",
    "        ret, frame = cap.read()\n",
    "        # Converts each frame to grayscale - we previously only converted the first frame to grayscale\n",
    "        gray = cv2.cvtColor(frame, cv2.COLOR_BGR2GRAY)\n",
    "        # Calculates sparse optical flow by Lucas-Kanade method\n",
    "        # https://docs.opencv.org/3.0-beta/modules/video/doc/motion_analysis_and_object_tracking.html#calcopticalflowpyrlk\n",
    "        prev = cv2.goodFeaturesToTrack(prev_gray, mask = None, **feature_params)\n",
    "        next, status, error = cv2.calcOpticalFlowPyrLK(prev_gray, gray, prev, None, **lk_params)\n",
    "        # Selects good feature points for previous position\n",
    "        good_old = prev[status == 1].astype(int)\n",
    "        # Selects good feature points for next position\n",
    "        good_new = next[status == 1].astype(int)\n",
    "        # Draws the optical flow tracks\n",
    "        for i, (new, old) in enumerate(zip(good_new, good_old)):\n",
    "            # Returns a contiguous flattened array as (x, y) coordinates for new point\n",
    "            a, b = new.ravel()\n",
    "            # Returns a contiguous flattened array as (x, y) coordinates for old point\n",
    "            c, d = old.ravel()\n",
    "            # Draws line between new and old position with green color and 2 thickness\n",
    "            mask = cv2.line(mask, (a, b), (c, d), color, 2)\n",
    "            # Draws filled circle (thickness of -1) at new position with green color and radius of 3\n",
    "            frame = cv2.circle(frame, (a, b), 3, color, -1)\n",
    "        # Overlays the optical flow tracks on the original frame\n",
    "        output = cv2.add(frame, mask)\n",
    "        # Updates previous frame\n",
    "        prev_gray = gray.copy()\n",
    "        # Updates previous good feature points\n",
    "        prev = good_new.reshape(-1, 1, 2)\n",
    "        # Opens a new window and displays the output frame\n",
    "        # cv2.imshow(\"sparse optical flow\", output)\n",
    "        out.write(output)\n",
    "        \n",
    "        # Frames are read by intervals of 10 milliseconds. The programs breaks out of the while loop when the user presses the 'q' key\n",
    "\n",
    "        # Change the speed of the video to observe the changes ...\n",
    "        if cv2.waitKey(100) & 0xFF == ord('q'):\n",
    "            break\n",
    "    except Exception as e:\n",
    "        break\n",
    "# The following frees up resources and closes all windows\n",
    "cap.release()\n",
    "out.release()\n",
    "cv2.destroyAllWindows()\n"
   ]
  }
 ],
 "metadata": {
  "interpreter": {
   "hash": "ed294f046c95a32f2daa1b721b73738cbbb3c03223d51d8e2a5246ce050c3a7e"
  },
  "kernelspec": {
   "display_name": "Python 3.8.2 64-bit ('env': venv)",
   "name": "python3"
  },
  "language_info": {
   "codemirror_mode": {
    "name": "ipython",
    "version": 3
   },
   "file_extension": ".py",
   "mimetype": "text/x-python",
   "name": "python",
   "nbconvert_exporter": "python",
   "pygments_lexer": "ipython3",
   "version": "3.8.2"
  },
  "orig_nbformat": 4
 },
 "nbformat": 4,
 "nbformat_minor": 2
}
